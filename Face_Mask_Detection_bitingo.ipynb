{
  "nbformat": 4,
  "nbformat_minor": 0,
  "metadata": {
    "colab": {
      "name": "Real_Time_Face_Mask_Detection.ipynb",
      "provenance": [],
      "collapsed_sections": [],
      "mount_file_id": "1bHQRzZJz6pKm7LwQ1My5XmSTe4kb0eCe",
      "authorship_tag": "ABX9TyMarzI4rIIYvnDzP4DnS3Uu"
    },
    "kernelspec": {
      "name": "python3",
      "display_name": "Python 3"
    },
    "language_info": {
      "name": "python"
    }
  },
  "cells": [
    {
      "cell_type": "markdown",
      "source": [
        "###Author : Bitingo Josaphat JB\n",
        "---\n",
        "Author E-mail: bitingojosaphat@gmail.com\n",
        "\n",
        "\n",
        "---\n",
        "Get The Trained mask detector Model and Dataset [here](https://drive.google.com/drive/folders/1K2jitDEDd61MdNqgOM_CICMjhH4rpV3G) "
      ],
      "metadata": {
        "id": "v3mXMON_k-5C"
      }
    },
    {
      "cell_type": "code",
      "execution_count": 10,
      "metadata": {
        "id": "Ic80f2qckond"
      },
      "outputs": [],
      "source": [
        "from tensorflow.keras.applications.mobilenet_v2 import preprocess_input\n",
        "from tensorflow.keras.preprocessing.image import img_to_array\n",
        "from tensorflow.keras.models import load_model\n",
        "from imutils.video import VideoStream\n",
        "import numpy as np\n",
        "import imutils\n",
        "import time\n",
        "import cv2\n",
        "import os"
      ]
    },
    {
      "cell_type": "code",
      "source": [
        "def detect_and_predict_mask(frame,faceNet,maskNet):\n",
        "  (h, w) = frame.shape[:2]\n",
        "  blob = cv2.dnn.blobFromImage(frame,1.0,(224,224),(104.0,177.0,123.0))\n",
        "  faceNet.setInput(blob)\n",
        "  detections = faceNet.forward()\n",
        "  print(detections.shape)\n",
        "  faces = []\n",
        "  locs = []\n",
        "  preds = []\n",
        "\n",
        "  for i in range(0,detections.shape[2]):\n",
        "    confidence = detections[0,0,i,2]\n",
        "\n",
        "    if confidence >0.5:\n",
        "      box = detections[0,0,i,3:7]*np.array([w,h,w,h])\n",
        "\n",
        "      (startX, startY,endX,endY) = box.astype('int')\n",
        "\n",
        "      (startX, startY) = (max(0,startX),max(0,startY))\n",
        "      (endX, endY) = (min(w-1,endX),min(h-1,endY))\n",
        "\n",
        "      face = frame[startY:endY, startX,endX]\n",
        "      face = cv2.cvtColor(face,cv2.COLOR_BGR2RGB)\n",
        "      face = cv2.resize(face,(224,224))\n",
        "      face = preprocess_input(face)\n",
        "\n",
        "      faces.append(face)\n",
        "      locs.append((startX, startY, endX, endY))\n",
        "\n",
        "\n",
        "  if len(faces) > 0:\n",
        "    faces = np.array(faces, dtype='float32')\n",
        "    preds = maskNet.predict(faces,batch_size=32)\n",
        "  \n",
        "\n",
        "  return (locs,preds)"
      ],
      "metadata": {
        "id": "H-xmm8DQleun"
      },
      "execution_count": 11,
      "outputs": []
    },
    {
      "cell_type": "code",
      "source": [
        "prototxtPath = r'/content/drive/MyDrive/Real-Time Face Mask Detection OpenCV Python/face_detector/deploy.prototxt'\n",
        "weightsPath = r'/content/drive/MyDrive/Real-Time Face Mask Detection OpenCV Python/face_detector/res10_300x300_ssd_iter_140000.caffemodel'\n",
        "faceNet = cv2.dnn.readNet(prototxtPath)\n",
        "\n",
        "maskNet = load_model('/content/drive/MyDrive/Real-Time Face Mask Detection OpenCV Python/mask_detector.model')\n",
        "\n",
        "print('[INFO] starting Video Stram...')\n",
        "vs = VideoStream(src=0).start()\n",
        "\n",
        "\n",
        "while True:\n",
        "  frame = vs.read()\n",
        "  frame = imutils.resize(frame, width=400)\n",
        "\n",
        "\n",
        "  (locs, preds) = detect_and_predict_mask(frame, faceNet,maskNet)\n",
        "\n",
        "  for (box,pred) in zip(locs, preds):\n",
        "    (startX, startY, endX, endY) = box\n",
        "    (mask, withoutMask) = pred\n",
        "\n",
        "    label = '[author : Bitingo Josaphat JB]: Mask' if mask > withouMask else '[Bitingo Josaphat JB]: No Mask'\n",
        "    color = (0,255,0) if label == '[author : Bitingo Josaphat JB]: Mask' else (255,0,0)\n",
        "\n",
        "    label = '{}: {:2f}%'.format(label, max(mask, withouMask) * 100)\n",
        "\n",
        "\n",
        "    cv2.putText(frame, label, (startX, startY-10),\n",
        "                cv2.FONT_HERSHEY_SIMPLEX, 0.15, color, 2)\n",
        "    cv2.rectangle(frame,(startX,startY), (endX, endY), color, 2)\n",
        "\n",
        "\n",
        "\n",
        "  cv2.imshow(\"Frame\",frame)\n",
        "  key = cv2.waitKey(1) & 0xFF\n",
        "\n",
        "\n",
        "\n",
        "\n",
        "\n",
        "  if key == ord('q'):\n",
        "    break\n",
        "\n",
        "cv2.destroyAllWindows()\n",
        "vs.stop()"
      ],
      "metadata": {
        "id": "2klHhTcQxVJM"
      },
      "execution_count": null,
      "outputs": []
    }
  ]
}