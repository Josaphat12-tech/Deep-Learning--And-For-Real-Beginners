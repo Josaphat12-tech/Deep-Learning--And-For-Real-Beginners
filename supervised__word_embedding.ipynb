{
  "nbformat": 4,
  "nbformat_minor": 0,
  "metadata": {
    "colab": {
      "name": "supervised _word_embedding.ipynb",
      "provenance": [],
      "collapsed_sections": [],
      "authorship_tag": "ABX9TyORV5T3NdBVB2myBRtJZ9sL"
    },
    "kernelspec": {
      "name": "python3",
      "display_name": "Python 3"
    },
    "language_info": {
      "name": "python"
    }
  },
  "cells": [
    {
      "cell_type": "markdown",
      "source": [
        "#**author :Bitingo Josaphat JB**"
      ],
      "metadata": {
        "id": "IglNIy5Z0KGI"
      }
    },
    {
      "cell_type": "code",
      "execution_count": 40,
      "metadata": {
        "id": "KEUQSQuPRoWN"
      },
      "outputs": [],
      "source": [
        "import numpy as np\n",
        "from tensorflow.keras.preprocessing.text import one_hot\n",
        "from tensorflow.keras.preprocessing.sequence import pad_sequences\n",
        "from tensorflow.keras.models import Sequential\n",
        "from tensorflow.keras.layers import Dense\n",
        "from tensorflow.keras.layers import Flatten\n",
        "from tensorflow.keras.layers import Embedding\n",
        "import matplotlib.pyplot as plt"
      ]
    },
    {
      "cell_type": "code",
      "source": [
        "reviews = [\n",
        "           'nice food',\n",
        "           'amazing restaurant',\n",
        "           'too good',\n",
        "           'just loved it!',\n",
        "           'will go again',\n",
        "           'horrible food',\n",
        "           'never go there',\n",
        "           'poor service',\n",
        "           'poor quality',\n",
        "           'needs improvement'\n",
        "]\n",
        "\n",
        "sentiment = np.array([1,1,1,1,1,0,0,0,0,0])"
      ],
      "metadata": {
        "id": "yYtpjkPhf7zZ"
      },
      "execution_count": 41,
      "outputs": []
    },
    {
      "cell_type": "code",
      "source": [
        "one_hot('amazing food',30) #the second parameter is just the vocab_size"
      ],
      "metadata": {
        "colab": {
          "base_uri": "https://localhost:8080/"
        },
        "id": "L4Y_MJiNhfbC",
        "outputId": "60c0bb83-d09d-4e31-9f46-c8f03e93f207"
      },
      "execution_count": 42,
      "outputs": [
        {
          "output_type": "execute_result",
          "data": {
            "text/plain": [
              "[25, 19]"
            ]
          },
          "metadata": {},
          "execution_count": 42
        }
      ]
    },
    {
      "cell_type": "code",
      "source": [
        "vocab_size = 50\n",
        "encoded_reviews = [one_hot(d,vocab_size) for d in reviews]\n",
        "print(encoded_reviews)"
      ],
      "metadata": {
        "colab": {
          "base_uri": "https://localhost:8080/"
        },
        "id": "3BWnZEJshnv5",
        "outputId": "e0addbe6-c2f3-4426-88ec-50e65436d347"
      },
      "execution_count": 43,
      "outputs": [
        {
          "output_type": "stream",
          "name": "stdout",
          "text": [
            "[[43, 35], [13, 24], [23, 12], [20, 8, 24], [26, 21, 2], [9, 35], [34, 21, 9], [22, 12], [22, 43], [40, 19]]\n"
          ]
        }
      ]
    },
    {
      "cell_type": "code",
      "source": [
        "encoded_reviews"
      ],
      "metadata": {
        "colab": {
          "base_uri": "https://localhost:8080/"
        },
        "id": "9qTYuAPhrBDZ",
        "outputId": "c71d5c96-fd36-442e-f576-be363876acdd"
      },
      "execution_count": 52,
      "outputs": [
        {
          "output_type": "execute_result",
          "data": {
            "text/plain": [
              "[[43, 35],\n",
              " [13, 24],\n",
              " [23, 12],\n",
              " [20, 8, 24],\n",
              " [26, 21, 2],\n",
              " [9, 35],\n",
              " [34, 21, 9],\n",
              " [22, 12],\n",
              " [22, 43],\n",
              " [40, 19]]"
            ]
          },
          "metadata": {},
          "execution_count": 52
        }
      ]
    },
    {
      "cell_type": "code",
      "source": [
        "# fig , ax1 = plt.subplots(figsize=(8,5))\n",
        "# for i in encoded_reviews:\n",
        "#   # print(i)\n",
        "#   ax1.plot(i,color='red');"
      ],
      "metadata": {
        "id": "JDRUHaaWiwGG"
      },
      "execution_count": 44,
      "outputs": []
    },
    {
      "cell_type": "markdown",
      "source": [
        "#padding my data"
      ],
      "metadata": {
        "id": "Cm-KiKa9kbJv"
      }
    },
    {
      "cell_type": "code",
      "source": [
        "max_lengh = 3\n",
        "padded_reviews = pad_sequences(encoded_reviews,maxlen=max_lengh,padding='post')\n",
        "print(padded_reviews)"
      ],
      "metadata": {
        "colab": {
          "base_uri": "https://localhost:8080/"
        },
        "id": "ciZSuON6j_hP",
        "outputId": "e3f08481-f9c2-4bb1-e58b-2e976041ed5a"
      },
      "execution_count": 45,
      "outputs": [
        {
          "output_type": "stream",
          "name": "stdout",
          "text": [
            "[[43 35  0]\n",
            " [13 24  0]\n",
            " [23 12  0]\n",
            " [20  8 24]\n",
            " [26 21  2]\n",
            " [ 9 35  0]\n",
            " [34 21  9]\n",
            " [22 12  0]\n",
            " [22 43  0]\n",
            " [40 19  0]]\n"
          ]
        }
      ]
    },
    {
      "cell_type": "markdown",
      "source": [
        "#creating my Model"
      ],
      "metadata": {
        "id": "uV4bbcwumzex"
      }
    },
    {
      "cell_type": "code",
      "source": [
        "embedded_vector_size = 4\n",
        "\n",
        "model = Sequential()\n",
        "model.add(Embedding(vocab_size,embedded_vector_size,input_length=max_lengh,name = \"embedding\"))\n",
        "model.add(Flatten())\n",
        "model.add(Dense(1,activation='sigmoid'))"
      ],
      "metadata": {
        "id": "sUMrPonPkwyQ"
      },
      "execution_count": 46,
      "outputs": []
    },
    {
      "cell_type": "code",
      "source": [
        "X = padded_reviews\n",
        "y = sentiment"
      ],
      "metadata": {
        "id": "2Ssjer5Umyv3"
      },
      "execution_count": 47,
      "outputs": []
    },
    {
      "cell_type": "code",
      "source": [
        "model.compile(optimizer = 'adam',\n",
        "              loss = 'binary_crossentropy',\n",
        "              metrics = ['accuracy'])\n",
        "model.summary()"
      ],
      "metadata": {
        "colab": {
          "base_uri": "https://localhost:8080/"
        },
        "id": "MYceGFy2nEUt",
        "outputId": "7cadccb8-2313-4e0f-b1ba-a58df0273de7"
      },
      "execution_count": 48,
      "outputs": [
        {
          "output_type": "stream",
          "name": "stdout",
          "text": [
            "Model: \"sequential_4\"\n",
            "_________________________________________________________________\n",
            " Layer (type)                Output Shape              Param #   \n",
            "=================================================================\n",
            " embedding (Embedding)       (None, 3, 4)              200       \n",
            "                                                                 \n",
            " flatten_2 (Flatten)         (None, 12)                0         \n",
            "                                                                 \n",
            " dense_2 (Dense)             (None, 1)                 13        \n",
            "                                                                 \n",
            "=================================================================\n",
            "Total params: 213\n",
            "Trainable params: 213\n",
            "Non-trainable params: 0\n",
            "_________________________________________________________________\n"
          ]
        }
      ]
    },
    {
      "cell_type": "code",
      "source": [
        "model.fit(X,y,epochs=50,verbose=0) #\"Verbose mode\" is an option available in many computer operating systems and programming languages that provides additional details as to what the computer is doing and what drivers and software it is loading during startup or in programming it would produce detailed output for diagnostic purposes"
      ],
      "metadata": {
        "colab": {
          "base_uri": "https://localhost:8080/"
        },
        "id": "QRLsdJ7Cnc8I",
        "outputId": "f8637f99-0dd0-4886-f27d-09b446648d53"
      },
      "execution_count": 49,
      "outputs": [
        {
          "output_type": "execute_result",
          "data": {
            "text/plain": [
              "<keras.callbacks.History at 0x7f4f344b57d0>"
            ]
          },
          "metadata": {},
          "execution_count": 49
        }
      ]
    },
    {
      "cell_type": "code",
      "source": [
        "# evaluate my model\n",
        "\n",
        "loss, accuracy = model.evaluate(X,y)\n",
        "accuracy"
      ],
      "metadata": {
        "colab": {
          "base_uri": "https://localhost:8080/"
        },
        "id": "v4COFQNbo12m",
        "outputId": "591143fc-3bf6-4b63-fd9d-dd9dc2119a06"
      },
      "execution_count": 50,
      "outputs": [
        {
          "output_type": "stream",
          "name": "stdout",
          "text": [
            "1/1 [==============================] - 0s 109ms/step - loss: 0.6474 - accuracy: 1.0000\n"
          ]
        },
        {
          "output_type": "execute_result",
          "data": {
            "text/plain": [
              "1.0"
            ]
          },
          "metadata": {},
          "execution_count": 50
        }
      ]
    },
    {
      "cell_type": "code",
      "source": [
        "weights = model.get_layer('embedding').get_weights()[0]\n",
        "len(weights)"
      ],
      "metadata": {
        "colab": {
          "base_uri": "https://localhost:8080/"
        },
        "id": "AOEXdIoFp0vm",
        "outputId": "9da71dca-0e41-4c02-c1dd-15ec9e0da349"
      },
      "execution_count": 51,
      "outputs": [
        {
          "output_type": "execute_result",
          "data": {
            "text/plain": [
              "50"
            ]
          },
          "metadata": {},
          "execution_count": 51
        }
      ]
    },
    {
      "cell_type": "code",
      "source": [
        "encoded_reviews"
      ],
      "metadata": {
        "colab": {
          "base_uri": "https://localhost:8080/"
        },
        "id": "vEdcihyqqgUf",
        "outputId": "4fb2063a-c585-417d-c8d3-427613c80992"
      },
      "execution_count": 53,
      "outputs": [
        {
          "output_type": "execute_result",
          "data": {
            "text/plain": [
              "[[43, 35],\n",
              " [13, 24],\n",
              " [23, 12],\n",
              " [20, 8, 24],\n",
              " [26, 21, 2],\n",
              " [9, 35],\n",
              " [34, 21, 9],\n",
              " [22, 12],\n",
              " [22, 43],\n",
              " [40, 19]]"
            ]
          },
          "metadata": {},
          "execution_count": 53
        }
      ]
    },
    {
      "cell_type": "code",
      "source": [
        "weights[43]"
      ],
      "metadata": {
        "colab": {
          "base_uri": "https://localhost:8080/"
        },
        "id": "pia0qHKozaFa",
        "outputId": "4f8fd3cb-0fed-42d9-dcb4-473d8cda8f31"
      },
      "execution_count": 55,
      "outputs": [
        {
          "output_type": "execute_result",
          "data": {
            "text/plain": [
              "array([ 0.01809383, -0.06915229,  0.00834266,  0.02992861], dtype=float32)"
            ]
          },
          "metadata": {},
          "execution_count": 55
        }
      ]
    },
    {
      "cell_type": "code",
      "source": [
        "weights[12]"
      ],
      "metadata": {
        "colab": {
          "base_uri": "https://localhost:8080/"
        },
        "id": "JrXVm30Wzf5l",
        "outputId": "15d307fb-2f25-4695-9acc-418cb07ff20c"
      },
      "execution_count": 57,
      "outputs": [
        {
          "output_type": "execute_result",
          "data": {
            "text/plain": [
              "array([-0.03293073,  0.0273877 , -0.02779353,  0.01160967], dtype=float32)"
            ]
          },
          "metadata": {},
          "execution_count": 57
        }
      ]
    },
    {
      "cell_type": "code",
      "source": [
        ""
      ],
      "metadata": {
        "id": "0AdNJBoqztSY"
      },
      "execution_count": null,
      "outputs": []
    }
  ]
}