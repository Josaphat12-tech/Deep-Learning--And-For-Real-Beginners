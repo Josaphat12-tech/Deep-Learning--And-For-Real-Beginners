{
  "nbformat": 4,
  "nbformat_minor": 0,
  "metadata": {
    "colab": {
      "name": "Optimize_Tensorflow_Pipeline_Performance_ prefetch & cache.ipynb",
      "provenance": [],
      "collapsed_sections": [],
      "mount_file_id": "13LCkcIF2x9ju5vL33ip7Ers2tSZo851q",
      "authorship_tag": "ABX9TyMyEANSKU4M+3gxk88wNV9l"
    },
    "kernelspec": {
      "name": "python3",
      "display_name": "Python 3"
    },
    "language_info": {
      "name": "python"
    }
  },
  "cells": [
    {
      "cell_type": "markdown",
      "source": [
        "###**author: Bitingo Josaphat JB**\n",
        "---\n",
        "#####**`Email`: bitingojosaphat@gmail.com**\n",
        "Author's [LinkedIn](https://www.linkedin.com/in/josaphat-bitingo-b8684a1b9/) Profile\n",
        "\n",
        "---\n",
        "\n",
        "Author's [RemoteHub]( https://www.remotehub.com/josaphat.bitingo) Profile"
      ],
      "metadata": {
        "id": "vDOWcDO2xGK5"
      }
    },
    {
      "cell_type": "code",
      "execution_count": 82,
      "metadata": {
        "id": "S0StbFnBh6Hy"
      },
      "outputs": [],
      "source": [
        "import tensorflow as tf\n",
        "import time"
      ]
    },
    {
      "cell_type": "code",
      "source": [
        "tf.__version__"
      ],
      "metadata": {
        "colab": {
          "base_uri": "https://localhost:8080/",
          "height": 35
        },
        "id": "jNF36ik4iA19",
        "outputId": "cf19d2cc-d2e7-4418-9eab-2fb918b38bb2"
      },
      "execution_count": 83,
      "outputs": [
        {
          "output_type": "execute_result",
          "data": {
            "application/vnd.google.colaboratory.intrinsic+json": {
              "type": "string"
            },
            "text/plain": [
              "'2.7.0'"
            ]
          },
          "metadata": {},
          "execution_count": 83
        }
      ]
    },
    {
      "cell_type": "code",
      "source": [
        "class FileDataset(tf.data.Dataset):\n",
        "  def read_files_in_batches(num_samples):\n",
        "    #open file\n",
        "    time.sleep(0.03)\n",
        "    for sample_idx in range(num_samples):\n",
        "      time.sleep(0.015)\n",
        "      yield (sample_idx,)\n",
        "\n",
        "  def __new__(cls, num_samples = 3):\n",
        "    # print('New is Called!')\n",
        "\n",
        "    return tf.data.Dataset.from_generator(\n",
        "        cls.read_files_in_batches,\n",
        "        output_signature = tf.TensorSpec(shape=(1,), dtype = tf.int64),\n",
        "        args = (num_samples,)\n",
        "    )"
      ],
      "metadata": {
        "id": "ap77L_OAiJxn"
      },
      "execution_count": 84,
      "outputs": []
    },
    {
      "cell_type": "code",
      "source": [
        "def benchmark(dataset,num_epochs = 2):\n",
        "  for epoch_num in range(num_epochs):\n",
        "    for sample in dataset:\n",
        "      time.sleep(0.01)"
      ],
      "metadata": {
        "id": "SrWTVjahjT8k"
      },
      "execution_count": 85,
      "outputs": []
    },
    {
      "cell_type": "code",
      "source": [
        "%%timeit\n",
        "benchmark(FileDataset())"
      ],
      "metadata": {
        "colab": {
          "base_uri": "https://localhost:8080/"
        },
        "id": "PCj_Mu6fmjvm",
        "outputId": "57c95262-a7b8-4294-b945-dd49f8bb6a76"
      },
      "execution_count": 86,
      "outputs": [
        {
          "output_type": "stream",
          "name": "stdout",
          "text": [
            "1 loop, best of 5: 265 ms per loop\n"
          ]
        }
      ]
    },
    {
      "cell_type": "code",
      "source": [
        "%%timeit\n",
        "# tf.data.Dataset.prefetch() Intead i used on my FileDataset class cuz this one derived from the main tf.data.Dataset class\n",
        "benchmark(FileDataset().prefetch(1))"
      ],
      "metadata": {
        "colab": {
          "base_uri": "https://localhost:8080/"
        },
        "id": "X8-_mdomnmkD",
        "outputId": "13456b4c-93fb-4e68-e082-d3c17ec0dcc0"
      },
      "execution_count": 87,
      "outputs": [
        {
          "output_type": "stream",
          "name": "stdout",
          "text": [
            "1 loop, best of 5: 225 ms per loop\n"
          ]
        }
      ]
    },
    {
      "cell_type": "code",
      "source": [
        "%%timeit\n",
        "benchmark(FileDataset().prefetch(tf.data.AUTOTUNE))"
      ],
      "metadata": {
        "colab": {
          "base_uri": "https://localhost:8080/"
        },
        "id": "m9sV5iw3s74p",
        "outputId": "12e5f879-bfaf-42cc-8889-30973de7e465"
      },
      "execution_count": 88,
      "outputs": [
        {
          "output_type": "stream",
          "name": "stdout",
          "text": [
            "1 loop, best of 5: 225 ms per loop\n"
          ]
        }
      ]
    },
    {
      "cell_type": "code",
      "source": [
        "dataset = tf.data.Dataset.range(5)\n",
        "for d in dataset:\n",
        "  print(d.numpy())"
      ],
      "metadata": {
        "colab": {
          "base_uri": "https://localhost:8080/"
        },
        "id": "UrXodkFbtD3o",
        "outputId": "0170c879-ea8a-43c8-f75d-dd02f794b39a"
      },
      "execution_count": 89,
      "outputs": [
        {
          "output_type": "stream",
          "name": "stdout",
          "text": [
            "0\n",
            "1\n",
            "2\n",
            "3\n",
            "4\n"
          ]
        }
      ]
    },
    {
      "cell_type": "code",
      "source": [
        "dataset = dataset.map(lambda x: x**2)\n",
        "\n",
        "for d in dataset.as_numpy_iterator():\n",
        "  print(d)"
      ],
      "metadata": {
        "colab": {
          "base_uri": "https://localhost:8080/"
        },
        "id": "me_N0rE6t7Sm",
        "outputId": "2cf98b74-d3e6-41d5-b03b-e1f9a3e6af89"
      },
      "execution_count": 90,
      "outputs": [
        {
          "output_type": "stream",
          "name": "stdout",
          "text": [
            "0\n",
            "1\n",
            "4\n",
            "9\n",
            "16\n"
          ]
        }
      ]
    },
    {
      "cell_type": "code",
      "source": [
        "dataset = dataset.cache()\n",
        "\n",
        "list(dataset.as_numpy_iterator())"
      ],
      "metadata": {
        "colab": {
          "base_uri": "https://localhost:8080/"
        },
        "id": "nYD8rozZuVAy",
        "outputId": "b44207de-b45e-4b89-8574-76ed0f0e1011"
      },
      "execution_count": 91,
      "outputs": [
        {
          "output_type": "execute_result",
          "data": {
            "text/plain": [
              "[0, 1, 4, 9, 16]"
            ]
          },
          "metadata": {},
          "execution_count": 91
        }
      ]
    },
    {
      "cell_type": "code",
      "source": [
        "list(dataset.as_numpy_iterator())"
      ],
      "metadata": {
        "colab": {
          "base_uri": "https://localhost:8080/"
        },
        "id": "cUvx4ERzu-Tw",
        "outputId": "a622c45f-5e10-42cf-db5f-6695d3016e92"
      },
      "execution_count": 92,
      "outputs": [
        {
          "output_type": "execute_result",
          "data": {
            "text/plain": [
              "[0, 1, 4, 9, 16]"
            ]
          },
          "metadata": {},
          "execution_count": 92
        }
      ]
    },
    {
      "cell_type": "code",
      "source": [
        "list(dataset.as_numpy_iterator())"
      ],
      "metadata": {
        "colab": {
          "base_uri": "https://localhost:8080/"
        },
        "id": "bunUrdCNvCXA",
        "outputId": "70945e63-23f1-4bb5-d6c9-36c922f3ef38"
      },
      "execution_count": 93,
      "outputs": [
        {
          "output_type": "execute_result",
          "data": {
            "text/plain": [
              "[0, 1, 4, 9, 16]"
            ]
          },
          "metadata": {},
          "execution_count": 93
        }
      ]
    },
    {
      "cell_type": "code",
      "source": [
        "def mapped_function(s):\n",
        "  tf.py_function(lambda: time.sleep(0.03),[],())\n",
        "  return s"
      ],
      "metadata": {
        "id": "HP-CpwqCvGf9"
      },
      "execution_count": 94,
      "outputs": []
    },
    {
      "cell_type": "code",
      "source": [
        "FileDataset().map(mapped_function)"
      ],
      "metadata": {
        "colab": {
          "base_uri": "https://localhost:8080/"
        },
        "id": "bBsdMFCIvxxc",
        "outputId": "7ae29ae5-99de-4ed7-aaac-9c616a4c179f"
      },
      "execution_count": 95,
      "outputs": [
        {
          "output_type": "execute_result",
          "data": {
            "text/plain": [
              "<MapDataset shapes: (1,), types: tf.int64>"
            ]
          },
          "metadata": {},
          "execution_count": 95
        }
      ]
    },
    {
      "cell_type": "code",
      "source": [
        "%%timeit -n1 -r1\n",
        "benchmark(FileDataset().map(mapped_function),5)"
      ],
      "metadata": {
        "colab": {
          "base_uri": "https://localhost:8080/"
        },
        "id": "qdyzgwiTv4cs",
        "outputId": "717194db-d0b8-442a-d5dd-8ae5411768e8"
      },
      "execution_count": 96,
      "outputs": [
        {
          "output_type": "stream",
          "name": "stdout",
          "text": [
            "1 loop, best of 1: 1.13 s per loop\n"
          ]
        }
      ]
    },
    {
      "cell_type": "code",
      "source": [
        "%%timeit -n1 -r1\n",
        "benchmark(FileDataset().map(mapped_function).cache(),5)"
      ],
      "metadata": {
        "colab": {
          "base_uri": "https://localhost:8080/"
        },
        "id": "SVlSX5ZpwNxA",
        "outputId": "73b13326-f044-4144-fac3-624bdef6b54b"
      },
      "execution_count": 97,
      "outputs": [
        {
          "output_type": "stream",
          "name": "stdout",
          "text": [
            "1 loop, best of 1: 400 ms per loop\n"
          ]
        }
      ]
    },
    {
      "cell_type": "markdown",
      "source": [
        "Author's [LinkedIn](https://www.linkedin.com/in/josaphat-bitingo-b8684a1b9/) Profile\n",
        "\n",
        "---\n",
        "\n",
        "Author's [RemoteHub]( https://www.remotehub.com/josaphat.bitingo) Profile"
      ],
      "metadata": {
        "id": "XugKNX-KyKY3"
      }
    },
    {
      "cell_type": "code",
      "source": [
        "# Bitingo Josaphat JB"
      ],
      "metadata": {
        "id": "ex5xCz49yxxT"
      },
      "execution_count": 98,
      "outputs": []
    }
  ]
}