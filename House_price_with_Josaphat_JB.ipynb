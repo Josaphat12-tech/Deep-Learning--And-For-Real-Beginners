{
  "nbformat": 4,
  "nbformat_minor": 0,
  "metadata": {
    "colab": {
      "name": "House_price_banglore.ipynb",
      "provenance": [],
      "collapsed_sections": [],
      "authorship_tag": "ABX9TyOl2k2aHWFn5ImDxSvj1dJZ",
      "include_colab_link": true
    },
    "kernelspec": {
      "name": "python3",
      "display_name": "Python 3"
    },
    "language_info": {
      "name": "python"
    }
  },
  "cells": [
    {
      "cell_type": "markdown",
      "metadata": {
        "id": "view-in-github",
        "colab_type": "text"
      },
      "source": [
        "<a href=\"https://colab.research.google.com/github/Josaphat12-tech/Gradient-Descent-For-Neuron-Network/blob/main/House_price_with_Josaphat_JB.ipynb\" target=\"_parent\"><img src=\"https://colab.research.google.com/assets/colab-badge.svg\" alt=\"Open In Colab\"/></a>"
      ]
    },
    {
      "cell_type": "code",
      "metadata": {
        "id": "1LiZz4XnKyix"
      },
      "source": [
        "import tensorflow as tf\n",
        "import pandas as pd\n",
        "import numpy as np\n",
        "import matplotlib.pyplot as plt\n",
        "%matplotlib inline\n",
        "url = r'https://raw.githubusercontent.com/codebasics/deep-learning-keras-tf-tutorial/master/8_sgd_vs_gd/homeprices_banglore.csv'\n",
        "df = pd.read_csv(url)"
      ],
      "execution_count": 69,
      "outputs": []
    },
    {
      "cell_type": "code",
      "metadata": {
        "colab": {
          "base_uri": "https://localhost:8080/",
          "height": 204
        },
        "id": "7kD9ejRsJ792",
        "outputId": "b4f2a297-1f68-4424-e4c0-6ef1a2ace37b"
      },
      "source": [
        "df.sample(5)"
      ],
      "execution_count": 70,
      "outputs": [
        {
          "output_type": "execute_result",
          "data": {
            "text/html": [
              "<div>\n",
              "<style scoped>\n",
              "    .dataframe tbody tr th:only-of-type {\n",
              "        vertical-align: middle;\n",
              "    }\n",
              "\n",
              "    .dataframe tbody tr th {\n",
              "        vertical-align: top;\n",
              "    }\n",
              "\n",
              "    .dataframe thead th {\n",
              "        text-align: right;\n",
              "    }\n",
              "</style>\n",
              "<table border=\"1\" class=\"dataframe\">\n",
              "  <thead>\n",
              "    <tr style=\"text-align: right;\">\n",
              "      <th></th>\n",
              "      <th>area</th>\n",
              "      <th>bedrooms</th>\n",
              "      <th>price</th>\n",
              "    </tr>\n",
              "  </thead>\n",
              "  <tbody>\n",
              "    <tr>\n",
              "      <th>18</th>\n",
              "      <td>2770</td>\n",
              "      <td>3</td>\n",
              "      <td>102.0</td>\n",
              "    </tr>\n",
              "    <tr>\n",
              "      <th>2</th>\n",
              "      <td>1440</td>\n",
              "      <td>3</td>\n",
              "      <td>62.0</td>\n",
              "    </tr>\n",
              "    <tr>\n",
              "      <th>15</th>\n",
              "      <td>1175</td>\n",
              "      <td>2</td>\n",
              "      <td>42.0</td>\n",
              "    </tr>\n",
              "    <tr>\n",
              "      <th>11</th>\n",
              "      <td>2785</td>\n",
              "      <td>4</td>\n",
              "      <td>140.0</td>\n",
              "    </tr>\n",
              "    <tr>\n",
              "      <th>5</th>\n",
              "      <td>1170</td>\n",
              "      <td>2</td>\n",
              "      <td>38.0</td>\n",
              "    </tr>\n",
              "  </tbody>\n",
              "</table>\n",
              "</div>"
            ],
            "text/plain": [
              "    area  bedrooms  price\n",
              "18  2770         3  102.0\n",
              "2   1440         3   62.0\n",
              "15  1175         2   42.0\n",
              "11  2785         4  140.0\n",
              "5   1170         2   38.0"
            ]
          },
          "metadata": {},
          "execution_count": 70
        }
      ]
    },
    {
      "cell_type": "markdown",
      "metadata": {
        "id": "tmWAlsDNQNEa"
      },
      "source": [
        "scalling consists of rendering all the selected data into a range of 0-1"
      ]
    },
    {
      "cell_type": "code",
      "metadata": {
        "id": "pUIT-1vOKbpU"
      },
      "source": [
        "from sklearn import preprocessing\n",
        "\n",
        "sx = preprocessing.MinMaxScaler()\n",
        "sy = preprocessing.MinMaxScaler()\n",
        "\n",
        "# trynna scale our x values\n",
        "scaled_x  = sx.fit_transform(df.drop('price',axis='columns'))        #df.drop('price',axis='columns')"
      ],
      "execution_count": 71,
      "outputs": []
    },
    {
      "cell_type": "code",
      "metadata": {
        "colab": {
          "base_uri": "https://localhost:8080/"
        },
        "id": "BGECUqaGP1Ky",
        "outputId": "408efbf9-20f6-46c0-cb52-312e9a425b88"
      },
      "source": [
        "scaled_x"
      ],
      "execution_count": 72,
      "outputs": [
        {
          "output_type": "execute_result",
          "data": {
            "text/plain": [
              "array([[0.08827586, 0.25      ],\n",
              "       [0.62068966, 0.75      ],\n",
              "       [0.22068966, 0.5       ],\n",
              "       [0.24862069, 0.5       ],\n",
              "       [0.13793103, 0.25      ],\n",
              "       [0.12758621, 0.25      ],\n",
              "       [0.6662069 , 0.75      ],\n",
              "       [0.86206897, 0.75      ],\n",
              "       [0.17586207, 0.5       ],\n",
              "       [1.        , 1.        ],\n",
              "       [0.34482759, 0.5       ],\n",
              "       [0.68448276, 0.75      ],\n",
              "       [0.06896552, 0.25      ],\n",
              "       [0.10344828, 0.25      ],\n",
              "       [0.5       , 0.5       ],\n",
              "       [0.12931034, 0.25      ],\n",
              "       [0.13103448, 0.5       ],\n",
              "       [0.25517241, 0.5       ],\n",
              "       [0.67931034, 0.5       ],\n",
              "       [0.        , 0.        ]])"
            ]
          },
          "metadata": {},
          "execution_count": 72
        }
      ]
    },
    {
      "cell_type": "code",
      "metadata": {
        "colab": {
          "base_uri": "https://localhost:8080/"
        },
        "id": "7_sPIduvQFln",
        "outputId": "311ce1d0-8df9-4ce3-910f-d6815911e52f"
      },
      "source": [
        "# Scaling the Y Values as Well\n",
        "scaled_y = sy.fit_transform(df['price'].values.reshape(df.shape[0],1))             #df['price'].values.reshape(df.shape[0],1)\n",
        "scaled_y"
      ],
      "execution_count": 73,
      "outputs": [
        {
          "output_type": "execute_result",
          "data": {
            "text/plain": [
              "array([[0.05237037],\n",
              "       [0.65185185],\n",
              "       [0.22222222],\n",
              "       [0.31851852],\n",
              "       [0.14074074],\n",
              "       [0.04444444],\n",
              "       [0.76296296],\n",
              "       [0.91111111],\n",
              "       [0.13333333],\n",
              "       [1.        ],\n",
              "       [0.37037037],\n",
              "       [0.8       ],\n",
              "       [0.04444444],\n",
              "       [0.05925926],\n",
              "       [0.51111111],\n",
              "       [0.07407407],\n",
              "       [0.11851852],\n",
              "       [0.20740741],\n",
              "       [0.51851852],\n",
              "       [0.        ]])"
            ]
          },
          "metadata": {},
          "execution_count": 73
        }
      ]
    },
    {
      "cell_type": "code",
      "metadata": {
        "colab": {
          "base_uri": "https://localhost:8080/"
        },
        "id": "UHe1-A8oRByz",
        "outputId": "128fdc62-6e67-4908-ee4f-4782ca09e906"
      },
      "source": [
        "def batch_gradient_descent(x,y_true,epochs,learning_rate = 0.01):\n",
        "  number_of_features = x.shape[1]\n",
        "  w = np.ones(number_of_features)\n",
        "  b = 0\n",
        "  total_samples = shape=x.shape[0]\n",
        "  cost_list = []\n",
        "  epochs_list = []\n",
        "  for i in range(epochs):\n",
        "    y_predicted = np.dot(w,scaled_x.T) + b\n",
        "    # Here i try to find the derivating of the error by taking y_true - y_predicted then we apply the the dot production wit X TRANSPOSE and at the end i find the mean mupplied by -2\n",
        "    w_grad = -(2/total_samples) * (x.T.dot(y_true-y_predicted)) \n",
        "    b_grad = -(2/total_samples) * np.sum(y_true-y_predicted)\n",
        "    \n",
        "    # Here we try to adjust the weight and the bias for our neuron\n",
        "    w = w-learning_rate * w_grad\n",
        "    b = b-learning_rate * b_grad\n",
        "\n",
        "    # Here i find the mean square Error which is my Cost in this use case\n",
        "    cost =np.mean(np.square(y_true-y_predicted))\n",
        "    \n",
        "    # Here i catch the value of cost and epochs after 10 iteration over the i which is an Epoch from for loop above \n",
        "    if i%10 ==0:\n",
        "      cost_list.append(cost)\n",
        "      epochs_list.append(i)\n",
        "\n",
        "  return w,b,cost,cost_list,epochs_list\n",
        "\n",
        "w,b,cost,cost_list,epochs_list = batch_gradient_descent(scaled_x,scaled_y.reshape(scaled_y.shape[0],),500)\n",
        "w,b,cost"
      ],
      "execution_count": 74,
      "outputs": [
        {
          "output_type": "execute_result",
          "data": {
            "text/plain": [
              "(array([0.70712464, 0.67456527]), -0.23034857438407427, 0.0068641890429808105)"
            ]
          },
          "metadata": {},
          "execution_count": 74
        }
      ]
    },
    {
      "cell_type": "code",
      "metadata": {
        "colab": {
          "base_uri": "https://localhost:8080/",
          "height": 296
        },
        "id": "0FdOEwUhagxW",
        "outputId": "3dff29fe-de36-4ad2-e007-86cda42abe6b"
      },
      "source": [
        "plt.plot(epochs_list,cost_list)\n",
        "plt.xlabel('Epoch')\n",
        "plt.ylabel('Cost')"
      ],
      "execution_count": 75,
      "outputs": [
        {
          "output_type": "execute_result",
          "data": {
            "text/plain": [
              "Text(0, 0.5, 'Cost')"
            ]
          },
          "metadata": {},
          "execution_count": 75
        },
        {
          "output_type": "display_data",
          "data": {
            "image/png": "[encoded data removed]",
            "text/plain": [
              "<Figure size 432x288 with 1 Axes>"
            ]
          },
          "metadata": {
            "needs_background": "light"
          }
        }
      ]
    },
    {
      "cell_type": "code",
      "metadata": {
        "colab": {
          "base_uri": "https://localhost:8080/"
        },
        "id": "_g1PuODjgWmz",
        "outputId": "63ae8329-9b4c-4dc5-9c19-9d37ceca2e20"
      },
      "source": [
        "def predict(area,bedrooms,w,b):\n",
        "  scaled_x = sx.transform([[area,bedrooms]])[0]\n",
        "\n",
        "  scale_price = w[0]*scaled_x[0] + w[1]*scaled_x[1] + b\n",
        "  return sy.inverse_transform([[scale_price]])[0][0]     #I just [0][0] cuz it is a multi dimentional array for i wanted only to get the value without any bracket around\n",
        "\n",
        "predict(2600,4,w,b)"
      ],
      "execution_count": 76,
      "outputs": [
        {
          "output_type": "execute_result",
          "data": {
            "text/plain": [
              "128.45484403267596"
            ]
          },
          "metadata": {},
          "execution_count": 76
        }
      ]
    },
    {
      "cell_type": "code",
      "metadata": {
        "colab": {
          "base_uri": "https://localhost:8080/"
        },
        "id": "eIpEHf57jMhF",
        "outputId": "d8b6f5ce-0728-4144-e1b9-618f7e4eb179"
      },
      "source": [
        "predict(2250,3,w,b)"
      ],
      "execution_count": 77,
      "outputs": [
        {
          "output_type": "execute_result",
          "data": {
            "text/plain": [
              "94.16701133317747"
            ]
          },
          "metadata": {},
          "execution_count": 77
        }
      ]
    },
    {
      "cell_type": "code",
      "metadata": {
        "colab": {
          "base_uri": "https://localhost:8080/"
        },
        "id": "K4WhisU3kqVv",
        "outputId": "41b35802-9352-4549-fdb7-fbd85e81003b"
      },
      "source": [
        "# val = predict(225345054,323,w,b)\n",
        "# round(val)\n",
        "predict(225345054,323,w,b)"
      ],
      "execution_count": 78,
      "outputs": [
        {
          "output_type": "execute_result",
          "data": {
            "text/plain": [
              "7425184.892652171"
            ]
          },
          "metadata": {},
          "execution_count": 78
        }
      ]
    },
    {
      "cell_type": "code",
      "metadata": {
        "id": "mVz4_fm_uBia"
      },
      "source": [
        ""
      ],
      "execution_count": null,
      "outputs": []
    },
    {
      "cell_type": "code",
      "metadata": {
        "id": "MZar-iM0uBKh"
      },
      "source": [
        ""
      ],
      "execution_count": 94,
      "outputs": []
    },
    {
      "cell_type": "code",
      "metadata": {
        "id": "GDU7MXOWuFgL"
      },
      "source": [
        ""
      ],
      "execution_count": null,
      "outputs": []
    },
    {
      "cell_type": "markdown",
      "metadata": {
        "id": "qogK-eZLuGTX"
      },
      "source": [
        "#*Let's Implement the stochastic_Gradient_Descent in the Second part**"
      ]
    },
    {
      "cell_type": "code",
      "metadata": {
        "colab": {
          "base_uri": "https://localhost:8080/"
        },
        "id": "jpH0nIurlVE2",
        "outputId": "73e1b9bf-f062-4d2d-8408-93a6262a91ac"
      },
      "source": [
        "import random\n",
        "def stochastic_gradient_descent(x,y_true,epochs,learning_rate = 0.01):\n",
        "  number_of_features = x.shape[1]\n",
        "  w = np.ones(number_of_features)\n",
        "  b = 0\n",
        "  total_samples = shape=x.shape[0]\n",
        "  cost_list_sdg = []\n",
        "  epochs_list_sdg = []\n",
        "  for i in range(epochs):\n",
        "\n",
        "    random_index = random.randint(0,total_samples-1)\n",
        "    sample_x = x[random_index]\n",
        "    sample_y = y_true[random_index]\n",
        "\n",
        "    y_predicted = np.dot(w,sample_x.T) + b\n",
        "    # Here i try to find the derivating of the error by taking y_true - y_predicted then we apply the the dot production wit X TRANSPOSE and at the end i find the mean mupplied by -2\n",
        "    w_grad = -(2/total_samples) * (sample_x.T.dot(sample_y-y_predicted)) \n",
        "    b_grad = -(2/total_samples) * np.sum(sample_y-y_predicted)\n",
        "    \n",
        "    # Here we try to adjust the weight and the bias for our neuron\n",
        "    w = w-learning_rate * w_grad\n",
        "    b = b-learning_rate * b_grad\n",
        "\n",
        "    # Here i find the mean square Error which is my Cost in this use case\n",
        "    cost =np.mean(np.square(sample_y-y_predicted))\n",
        "    \n",
        "    # Here i catch the value of cost and epochs after 10 iteration over the i which is an Epoch from for loop above \n",
        "    if i%100 ==0:\n",
        "      cost_list_sdg.append(cost)\n",
        "      epochs_list_sdg.append(i)\n",
        "\n",
        "  return w,b,cost,cost_list_sdg,epochs_list_sdg\n",
        "\n",
        "w1,b1,cost1,cost_list_sdg,epochs_list_sdg = stochastic_gradient_descent(scaled_x,scaled_y.reshape(scaled_y.shape[0],),10000)\n",
        "w1,b1,cost1"
      ],
      "execution_count": 95,
      "outputs": [
        {
          "output_type": "execute_result",
          "data": {
            "text/plain": [
              "(array([0.70524861, 0.67104345]), -0.2266532941415577, 0.006866907514487071)"
            ]
          },
          "metadata": {},
          "execution_count": 95
        }
      ]
    },
    {
      "cell_type": "code",
      "metadata": {
        "colab": {
          "base_uri": "https://localhost:8080/"
        },
        "id": "dPdScrdJoytx",
        "outputId": "9688bbc7-6415-426c-c267-771d0ee5e4eb"
      },
      "source": [
        "w,b,cost"
      ],
      "execution_count": 91,
      "outputs": [
        {
          "output_type": "execute_result",
          "data": {
            "text/plain": [
              "(array([0.70712464, 0.67456527]), -0.23034857438407427, 0.0068641890429808105)"
            ]
          },
          "metadata": {},
          "execution_count": 91
        }
      ]
    },
    {
      "cell_type": "code",
      "metadata": {
        "colab": {
          "base_uri": "https://localhost:8080/",
          "height": 296
        },
        "id": "vZrchy71p-jT",
        "outputId": "47991677-5a33-4e07-eab2-f36d10407a6a"
      },
      "source": [
        "plt.plot(epochs_list_sdg,cost_list_sdg)\n",
        "plt.xlabel('Epoch')\n",
        "plt.ylabel('Cost')"
      ],
      "execution_count": 93,
      "outputs": [
        {
          "output_type": "execute_result",
          "data": {
            "text/plain": [
              "Text(0, 0.5, 'Cost')"
            ]
          },
          "metadata": {},
          "execution_count": 93
        },
        {
          "output_type": "display_data",
          "data": {
            "image/png": "[encoded data removed]",
            "text/plain": [
              "<Figure size 432x288 with 1 Axes>"
            ]
          },
          "metadata": {
            "needs_background": "light"
          }
        }
      ]
    },
    {
      "cell_type": "code",
      "metadata": {
        "colab": {
          "base_uri": "https://localhost:8080/"
        },
        "id": "O0ZVGZRSsHUV",
        "outputId": "1a710915-9d54-4f64-daa0-8aa0e0c16276"
      },
      "source": [
        "predict(2770,3,w1,b1)"
      ],
      "execution_count": 94,
      "outputs": [
        {
          "output_type": "execute_result",
          "data": {
            "text/plain": [
              "110.97479686414064"
            ]
          },
          "metadata": {},
          "execution_count": 94
        }
      ]
    }
  ]
}