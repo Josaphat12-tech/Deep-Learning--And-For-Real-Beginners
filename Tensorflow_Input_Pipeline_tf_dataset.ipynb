{
  "nbformat": 4,
  "nbformat_minor": 0,
  "metadata": {
    "colab": {
      "name": "Tensorflow_Input_Pipeline_tf_dataset.ipynb",
      "provenance": [],
      "collapsed_sections": [],
      "mount_file_id": "180Giow3-_nxELLBaK7BAHt6iPZkXGpfn",
      "authorship_tag": "ABX9TyNTOAtjxCnr0BeVTa/ihE8e"
    },
    "kernelspec": {
      "name": "python3",
      "display_name": "Python 3"
    },
    "language_info": {
      "name": "python"
    }
  },
  "cells": [
    {
      "cell_type": "markdown",
      "source": [
        "##**author⚗: Bitingo Josaphat Jb**\n",
        "\n",
        "\n",
        "\n",
        "\n",
        "\n",
        "---\n",
        "\n",
        "\n",
        "\n",
        "---\n",
        "\n",
        "\n",
        "[Linkedin](https://www.linkedin.com/in/josaphat-bitingo-b8684a1b9/)\n",
        "\n",
        "Email : bitingojosaphat@gmail.com"
      ],
      "metadata": {
        "id": "EGitAtVYS242"
      }
    },
    {
      "cell_type": "code",
      "execution_count": 2,
      "metadata": {
        "id": "IEx3YWv4484w"
      },
      "outputs": [],
      "source": [
        "import tensorflow as tf"
      ]
    },
    {
      "cell_type": "code",
      "source": [
        "daily_sales_numbers = [21, 22, -108, 31, -1, 32, 34,31]"
      ],
      "metadata": {
        "id": "-qE0vOXwtN6o"
      },
      "execution_count": 3,
      "outputs": []
    },
    {
      "cell_type": "code",
      "source": [
        "tf_dataset = tf.data.Dataset.from_tensor_slices(daily_sales_numbers)\n",
        "tf_dataset"
      ],
      "metadata": {
        "colab": {
          "base_uri": "https://localhost:8080/"
        },
        "id": "x5IoSBC9tqHS",
        "outputId": "439f242e-6fc9-4ca5-fa31-10edfdb24a61"
      },
      "execution_count": 4,
      "outputs": [
        {
          "output_type": "execute_result",
          "data": {
            "text/plain": [
              "<TensorSliceDataset shapes: (), types: tf.int32>"
            ]
          },
          "metadata": {},
          "execution_count": 4
        }
      ]
    },
    {
      "cell_type": "code",
      "source": [
        "for sales in tf_dataset:\n",
        "  print(sales)"
      ],
      "metadata": {
        "colab": {
          "base_uri": "https://localhost:8080/"
        },
        "id": "9s6qGD4yu8AH",
        "outputId": "f489ebd0-0b29-4b61-d481-4028f7b75ce6"
      },
      "execution_count": 5,
      "outputs": [
        {
          "output_type": "stream",
          "name": "stdout",
          "text": [
            "tf.Tensor(21, shape=(), dtype=int32)\n",
            "tf.Tensor(22, shape=(), dtype=int32)\n",
            "tf.Tensor(-108, shape=(), dtype=int32)\n",
            "tf.Tensor(31, shape=(), dtype=int32)\n",
            "tf.Tensor(-1, shape=(), dtype=int32)\n",
            "tf.Tensor(32, shape=(), dtype=int32)\n",
            "tf.Tensor(34, shape=(), dtype=int32)\n",
            "tf.Tensor(31, shape=(), dtype=int32)\n"
          ]
        }
      ]
    },
    {
      "cell_type": "code",
      "source": [
        "for sales in tf_dataset.as_numpy_iterator():   #This Function to just convert directly this tensor dataset into a numpy array\n",
        "#   print(sales.numpy())         This Function Converts also this iteration direcly into numpy array\n",
        "  print(sales)"
      ],
      "metadata": {
        "colab": {
          "base_uri": "https://localhost:8080/"
        },
        "id": "_kXxaJxyt4iv",
        "outputId": "02cd494c-cfc8-48c9-9cec-01e318139f4b"
      },
      "execution_count": 6,
      "outputs": [
        {
          "output_type": "stream",
          "name": "stdout",
          "text": [
            "21\n",
            "22\n",
            "-108\n",
            "31\n",
            "-1\n",
            "32\n",
            "34\n",
            "31\n"
          ]
        }
      ]
    },
    {
      "cell_type": "code",
      "source": [
        "for sales in tf_dataset.take(3):\n",
        "  print(sales.numpy())"
      ],
      "metadata": {
        "colab": {
          "base_uri": "https://localhost:8080/"
        },
        "id": "Ax_R5kdEuE0R",
        "outputId": "ae0e507e-bb9f-4567-d900-3636be7a5a0a"
      },
      "execution_count": 7,
      "outputs": [
        {
          "output_type": "stream",
          "name": "stdout",
          "text": [
            "21\n",
            "22\n",
            "-108\n"
          ]
        }
      ]
    },
    {
      "cell_type": "code",
      "source": [
        "tf_dataset = tf_dataset.filter(lambda x : x > 0)\n",
        "\n",
        "for sales in tf_dataset.as_numpy_iterator():\n",
        "  print(sales)"
      ],
      "metadata": {
        "colab": {
          "base_uri": "https://localhost:8080/"
        },
        "id": "bktWzZaEvlf2",
        "outputId": "a6f6502c-4fe7-4a42-a152-e58b414ccfd2"
      },
      "execution_count": 8,
      "outputs": [
        {
          "output_type": "stream",
          "name": "stdout",
          "text": [
            "21\n",
            "22\n",
            "31\n",
            "32\n",
            "34\n",
            "31\n"
          ]
        }
      ]
    },
    {
      "cell_type": "code",
      "source": [
        "tf_dataset = tf_dataset.map(lambda x: x*72)\n",
        "\n",
        "for sales in tf_dataset.as_numpy_iterator():\n",
        "  print(sales)"
      ],
      "metadata": {
        "colab": {
          "base_uri": "https://localhost:8080/"
        },
        "id": "k1FFOPM2wLeU",
        "outputId": "bd12e6c1-6802-4ac8-99e5-dd0c0614c741"
      },
      "execution_count": 9,
      "outputs": [
        {
          "output_type": "stream",
          "name": "stdout",
          "text": [
            "1512\n",
            "1584\n",
            "2232\n",
            "2304\n",
            "2448\n",
            "2232\n"
          ]
        }
      ]
    },
    {
      "cell_type": "code",
      "source": [
        "tf_dataset = tf_dataset.shuffle(3)\n",
        "\n",
        "for sales in tf_dataset.as_numpy_iterator():\n",
        "  print(sales)"
      ],
      "metadata": {
        "colab": {
          "base_uri": "https://localhost:8080/"
        },
        "id": "ZGmT9kKzwuaO",
        "outputId": "091e8b18-731c-4d1c-97dd-b83b03965b9b"
      },
      "execution_count": 10,
      "outputs": [
        {
          "output_type": "stream",
          "name": "stdout",
          "text": [
            "1584\n",
            "1512\n",
            "2304\n",
            "2448\n",
            "2232\n",
            "2232\n"
          ]
        }
      ]
    },
    {
      "cell_type": "code",
      "source": [
        "tf_dataset = tf_dataset.batch(2)\n",
        "\n",
        "for sales in tf_dataset.as_numpy_iterator():\n",
        "  print(sales)"
      ],
      "metadata": {
        "colab": {
          "base_uri": "https://localhost:8080/"
        },
        "id": "0UBX5jHRxZY3",
        "outputId": "50064b62-7a5c-4799-b723-bf9bc9aa6222"
      },
      "execution_count": 11,
      "outputs": [
        {
          "output_type": "stream",
          "name": "stdout",
          "text": [
            "[1584 1512]\n",
            "[2232 2448]\n",
            "[2232 2304]\n"
          ]
        }
      ]
    },
    {
      "cell_type": "code",
      "source": [
        "tf_dataset = tf.data.Dataset.from_tensor_slices(daily_sales_numbers)\n",
        "\n",
        "tf_dataset = tf_dataset.filter(lambda i: i>0).map(lambda j: j*72).shuffle(3).batch(2)\n",
        "for sales in tf_dataset.as_numpy_iterator():\n",
        "  print(sales)"
      ],
      "metadata": {
        "colab": {
          "base_uri": "https://localhost:8080/"
        },
        "id": "zvXSxqndx3cW",
        "outputId": "5c2b00cb-2d95-4da4-e5ad-e1bdfe0beb35"
      },
      "execution_count": 12,
      "outputs": [
        {
          "output_type": "stream",
          "name": "stdout",
          "text": [
            "[1512 2232]\n",
            "[2448 2232]\n",
            "[1584 2304]\n"
          ]
        }
      ]
    },
    {
      "cell_type": "code",
      "source": [
        " images_ds = tf.data.Dataset.list_files('/content/drive/MyDrive/imagesfile/*/*', shuffle = False)\n",
        "\n",
        " for files in images_ds.take(3):\n",
        "   print(files.numpy())"
      ],
      "metadata": {
        "colab": {
          "base_uri": "https://localhost:8080/"
        },
        "id": "-oA5ZhIRyej5",
        "outputId": "cb9a50e8-46f4-4796-893e-bc5dd847ce3a"
      },
      "execution_count": 18,
      "outputs": [
        {
          "output_type": "stream",
          "name": "stdout",
          "text": [
            "b'/content/drive/MyDrive/imagesfile/cat/20 Reasons Why Cats Make the Best Pets....jpg'\n",
            "b'/content/drive/MyDrive/imagesfile/cat/7 Foods Your Cat Can_t Eat.jpg'\n",
            "b'/content/drive/MyDrive/imagesfile/cat/A cat appears to have caught the....jpg'\n"
          ]
        }
      ]
    },
    {
      "cell_type": "code",
      "source": [
        "images_ds = images_ds.shuffle(200)\n",
        "\n",
        "for files in images_ds.take(3):\n",
        "  print(files.numpy())"
      ],
      "metadata": {
        "colab": {
          "base_uri": "https://localhost:8080/"
        },
        "id": "_Wav2HOkG1ar",
        "outputId": "37877594-35b9-4362-8188-60bb3815a187"
      },
      "execution_count": 19,
      "outputs": [
        {
          "output_type": "stream",
          "name": "stdout",
          "text": [
            "b'/content/drive/MyDrive/imagesfile/dog/Top 10 Smartest Dog Breeds - Most....jpg'\n",
            "b'/content/drive/MyDrive/imagesfile/dog/Cats and Dogs.jpg'\n",
            "b'/content/drive/MyDrive/imagesfile/dog/Dog Breed Chart....jpg'\n"
          ]
        }
      ]
    },
    {
      "cell_type": "code",
      "source": [
        "class_names = ['cat', 'dog']"
      ],
      "metadata": {
        "id": "a1CJJt4BIYfv"
      },
      "execution_count": 20,
      "outputs": []
    },
    {
      "cell_type": "code",
      "source": [
        "image_count = len(images_ds)\n",
        "image_count"
      ],
      "metadata": {
        "colab": {
          "base_uri": "https://localhost:8080/"
        },
        "id": "7dBLb_RXIj16",
        "outputId": "b51a8055-74a4-4e69-bc24-1ed2657b54af"
      },
      "execution_count": 21,
      "outputs": [
        {
          "output_type": "execute_result",
          "data": {
            "text/plain": [
              "129"
            ]
          },
          "metadata": {},
          "execution_count": 21
        }
      ]
    },
    {
      "cell_type": "code",
      "source": [
        " train_size = int(image_count*0.8)\n",
        "\n",
        " train_ds = images_ds.take(train_size)\n",
        " test_ds = images_ds.skip(train_size)"
      ],
      "metadata": {
        "id": "wJ-WH4l6I1b5"
      },
      "execution_count": 24,
      "outputs": []
    },
    {
      "cell_type": "code",
      "source": [
        "len(train_ds)"
      ],
      "metadata": {
        "colab": {
          "base_uri": "https://localhost:8080/"
        },
        "id": "zKcA16XaJxAJ",
        "outputId": "93745178-7ccd-4dbc-b468-01ca2bc509b0"
      },
      "execution_count": 25,
      "outputs": [
        {
          "output_type": "execute_result",
          "data": {
            "text/plain": [
              "103"
            ]
          },
          "metadata": {},
          "execution_count": 25
        }
      ]
    },
    {
      "cell_type": "code",
      "source": [
        "len(test_ds)"
      ],
      "metadata": {
        "colab": {
          "base_uri": "https://localhost:8080/"
        },
        "id": "pjBcFv6EKHjP",
        "outputId": "731874fb-249c-4aa3-8b7a-f86c990c0d8f"
      },
      "execution_count": 26,
      "outputs": [
        {
          "output_type": "execute_result",
          "data": {
            "text/plain": [
              "26"
            ]
          },
          "metadata": {},
          "execution_count": 26
        }
      ]
    },
    {
      "cell_type": "code",
      "source": [
        "s = '/content/drive/MyDrive/imagesfile/dog/Top 10 Smartest Dog Breeds - Most....jpg'\n",
        "\n",
        "\n",
        "s.split('/')[-2]"
      ],
      "metadata": {
        "colab": {
          "base_uri": "https://localhost:8080/",
          "height": 35
        },
        "id": "y-xuqkDLKLsJ",
        "outputId": "2c3f98f1-ba87-42f0-80ff-593ad7bae740"
      },
      "execution_count": 28,
      "outputs": [
        {
          "output_type": "execute_result",
          "data": {
            "application/vnd.google.colaboratory.intrinsic+json": {
              "type": "string"
            },
            "text/plain": [
              "'dog'"
            ]
          },
          "metadata": {},
          "execution_count": 28
        }
      ]
    },
    {
      "cell_type": "code",
      "source": [
        "for t in train_ds.take(4):\n",
        "  print(t.numpy())"
      ],
      "metadata": {
        "colab": {
          "base_uri": "https://localhost:8080/"
        },
        "id": "KyC9pvbgL50H",
        "outputId": "5e285632-2acf-4eb2-e381-53dd58a1d8e9"
      },
      "execution_count": 31,
      "outputs": [
        {
          "output_type": "stream",
          "name": "stdout",
          "text": [
            "b'/content/drive/MyDrive/imagesfile/dog/Modern Dog magazine _ the best dog....jpg'\n",
            "b'/content/drive/MyDrive/imagesfile/cat/A cat appears to have caught the....jpg'\n",
            "b'/content/drive/MyDrive/imagesfile/dog/25 Low-Maintenance Dog Breeds for....jpg'\n",
            "b'/content/drive/MyDrive/imagesfile/dog/What makes dogs so special and....jpg'\n"
          ]
        }
      ]
    },
    {
      "cell_type": "code",
      "source": [
        "def get_label(file_path):\n",
        "  import os\n",
        "  return tf.strings.split(file_path, os.path.sep)[-2]"
      ],
      "metadata": {
        "id": "lPq6OHPZLQyu"
      },
      "execution_count": 33,
      "outputs": []
    },
    {
      "cell_type": "code",
      "source": [
        "def process_image(file_path):\n",
        "  label = get_label(file_path)\n",
        "\n",
        "  img = tf.io.read_file(file_path)\n",
        "  img = tf.image.decode_jpeg(img)\n",
        "  img = tf.image.resize(img, [128, 128])\n",
        "\n",
        "  return img , label"
      ],
      "metadata": {
        "id": "GACrPkAxNrt6"
      },
      "execution_count": 35,
      "outputs": []
    },
    {
      "cell_type": "code",
      "source": [
        "train_ds = train_ds.map(process_image)\n",
        "for image, label in train_ds.take(3):\n",
        "  print('Image: ',image)\n",
        "  print('Label: ',label)"
      ],
      "metadata": {
        "colab": {
          "base_uri": "https://localhost:8080/"
        },
        "id": "husPIc71MJ_v",
        "outputId": "3da79d70-959a-462e-d1f8-d7d5a4f4540d"
      },
      "execution_count": 39,
      "outputs": [
        {
          "output_type": "stream",
          "name": "stdout",
          "text": [
            "Image:  tf.Tensor(\n",
            "[[[  7.6796875  25.679688   11.919922 ]\n",
            "  [ 12.6796875  29.679688   19.679688 ]\n",
            "  [ 13.594727   28.594727   21.594727 ]\n",
            "  ...\n",
            "  [ 14.8046875  47.804688   18.804688 ]\n",
            "  [ 23.875      51.554688   30.515625 ]\n",
            "  [ 18.799805   47.799805   26.44043  ]]\n",
            "\n",
            " [[ 15.0390625  33.039062   17.789062 ]\n",
            "  [ 15.004883   33.004883   21.004883 ]\n",
            "  [ 15.15918    32.15918    22.15918  ]\n",
            "  ...\n",
            "  [ 14.96582    49.96582    17.96582  ]\n",
            "  [ 20.875      52.875      29.875    ]\n",
            "  [ 19.375      48.375      26.375    ]]\n",
            "\n",
            " [[ 19.023438   37.648438   19.773438 ]\n",
            "  [ 15.125      33.125      19.125    ]\n",
            "  [ 16.398438   36.398438   24.398438 ]\n",
            "  ...\n",
            "  [ 16.         53.         19.       ]\n",
            "  [ 19.398438   55.398438   29.398438 ]\n",
            "  [ 18.625      47.375      24.       ]]\n",
            "\n",
            " ...\n",
            "\n",
            " [[ 74.96875   119.32129    55.804688 ]\n",
            "  [ 89.234375  135.6123     35.526367 ]\n",
            "  [101.54004   151.9414     30.61914  ]\n",
            "  ...\n",
            "  [ 53.10742    96.859375   38.323242 ]\n",
            "  [ 62.251953  113.37695    53.851562 ]\n",
            "  [ 42.054688   94.15039    38.79785  ]]\n",
            "\n",
            " [[ 85.021484  135.98242    35.13867  ]\n",
            "  [104.73828   157.73828    43.48828  ]\n",
            "  [ 81.73242   138.6543     22.066406 ]\n",
            "  ...\n",
            "  [ 36.69336    84.05371    15.855469 ]\n",
            "  [ 66.15918   116.15918    55.15918  ]\n",
            "  [ 35.092773   77.291016   16.249023 ]]\n",
            "\n",
            " [[ 96.131836  146.50684    46.756836 ]\n",
            "  [ 85.069336  140.06934    36.319336 ]\n",
            "  [ 92.85547   147.41016    48.59668  ]\n",
            "  ...\n",
            "  [ 51.835938  100.96094    36.210938 ]\n",
            "  [ 51.375     100.25       35.625    ]\n",
            "  [ 46.200195   95.36621    22.15039  ]]], shape=(128, 128, 3), dtype=float32)\n",
            "Label:  tf.Tensor(b'dog', shape=(), dtype=string)\n",
            "Image:  tf.Tensor(\n",
            "[[[ 10.0078125  20.007812   11.0078125]\n",
            "  [ 12.0234375  22.023438   11.0234375]\n",
            "  [ 14.480469   24.480469   13.480469 ]\n",
            "  ...\n",
            "  [ 17.480469   24.480469   32.48047  ]\n",
            "  [ 20.511719   29.511719   36.51172  ]\n",
            "  [ 23.488281   36.48828    45.48828  ]]\n",
            "\n",
            " [[ 12.394531   22.394531   13.394531 ]\n",
            "  [ 12.0703125  22.070312   12.046875 ]\n",
            "  [ 14.511719   24.511719   13.511719 ]\n",
            "  ...\n",
            "  [ 15.90625    25.90625    35.90625  ]\n",
            "  [ 22.         33.535156   43.023438 ]\n",
            "  [ 26.164062   38.164062   50.164062 ]]\n",
            "\n",
            " [[ 14.558594   24.558594   15.558594 ]\n",
            "  [ 13.1171875  23.117188   15.1171875]\n",
            "  [ 12.078125   22.078125   13.078125 ]\n",
            "  ...\n",
            "  [ 20.675781   30.675781   42.67578  ]\n",
            "  [ 23.402344   32.36328    42.882812 ]\n",
            "  [ 19.558594   33.558594   46.558594 ]]\n",
            "\n",
            " ...\n",
            "\n",
            " [[ 64.609375   63.609375   68.609375 ]\n",
            "  [ 84.72656    81.72656    88.72656  ]\n",
            "  [ 78.24609    77.24609    84.28516  ]\n",
            "  ...\n",
            "  [101.83203   110.390625  124.3125   ]\n",
            "  [137.03906   139.03906   154.03906  ]\n",
            "  [124.36328   125.36328   143.36328  ]]\n",
            "\n",
            " [[ 56.535156   57.535156   62.046875 ]\n",
            "  [ 78.11719    76.140625   82.62891  ]\n",
            "  [ 90.859375   89.37109    98.83594  ]\n",
            "  ...\n",
            "  [130.97656   133.95312   147.48828  ]\n",
            "  [129.92969   129.90625   146.88281  ]\n",
            "  [122.62891   126.60547   145.60547  ]]\n",
            "\n",
            " [[ 80.48828    75.48828    82.48828  ]\n",
            "  [ 85.51953    86.51953    90.51953  ]\n",
            "  [101.51172   102.51172   107.51172  ]\n",
            "  ...\n",
            "  [128.01562   130.01562   145.01562  ]\n",
            "  [115.953125  121.953125  135.95312  ]\n",
            "  [116.48047   119.48047   135.47266  ]]], shape=(128, 128, 3), dtype=float32)\n",
            "Label:  tf.Tensor(b'cat', shape=(), dtype=string)\n",
            "Image:  tf.Tensor(\n",
            "[[[129.      147.       63.     ]\n",
            "  [127.      141.       62.     ]\n",
            "  [132.46875 141.46875  58.46875]\n",
            "  ...\n",
            "  [144.      161.       81.     ]\n",
            "  [145.53125 163.53125  81.53125]\n",
            "  [142.9375  156.9375   79.9375 ]]\n",
            "\n",
            " [[127.      144.       64.     ]\n",
            "  [124.59375 142.59375  60.59375]\n",
            "  [130.40625 144.40625  57.40625]\n",
            "  ...\n",
            "  [141.      163.       81.     ]\n",
            "  [143.40625 160.40625  82.40625]\n",
            "  [146.      163.       83.     ]]\n",
            "\n",
            " [[122.34375 144.34375  62.34375]\n",
            "  [125.65625 145.65625  60.65625]\n",
            "  [134.65625 153.65625  61.65625]\n",
            "  ...\n",
            "  [145.      163.       87.     ]\n",
            "  [143.      161.       85.     ]\n",
            "  [144.34375 165.34375  88.34375]]\n",
            "\n",
            " ...\n",
            "\n",
            " [[ 55.34375  45.34375  44.34375]\n",
            "  [ 56.03125  45.03125  43.03125]\n",
            "  [ 46.3125   36.3125   34.3125 ]\n",
            "  ...\n",
            "  [ 98.65625 133.65625  49.65625]\n",
            "  [107.      144.       51.     ]\n",
            "  [104.65625 141.65625  46.65625]]\n",
            "\n",
            " [[ 56.40625  46.40625  47.40625]\n",
            "  [ 52.59375  42.59375  41.59375]\n",
            "  [ 71.40625  62.40625  63.40625]\n",
            "  ...\n",
            "  [114.40625 143.40625  59.40625]\n",
            "  [116.59375 151.59375  57.59375]\n",
            "  [ 98.      137.       44.     ]]\n",
            "\n",
            " [[ 52.       42.       40.     ]\n",
            "  [ 52.       42.       41.     ]\n",
            "  [ 43.9375   33.9375   34.9375 ]\n",
            "  ...\n",
            "  [117.      150.       59.     ]\n",
            "  [117.      151.       56.     ]\n",
            "  [102.0625  142.0625   46.0625 ]]], shape=(128, 128, 3), dtype=float32)\n",
            "Label:  tf.Tensor(b'cat', shape=(), dtype=string)\n"
          ]
        }
      ]
    },
    {
      "cell_type": "code",
      "source": [
        "def scale(image,label):\n",
        "  return image/255, label"
      ],
      "metadata": {
        "id": "Yql87nxxNFB1"
      },
      "execution_count": 42,
      "outputs": []
    },
    {
      "cell_type": "code",
      "source": [
        "train_ds = train_ds.map(scale)\n",
        "for image,label in train_ds.take(3):\n",
        "  print('****Image: ', image.numpy()[0][0])\n",
        "  print('****Label: ', label.numpy())\n"
      ],
      "metadata": {
        "colab": {
          "base_uri": "https://localhost:8080/"
        },
        "id": "5bNXlDcRPpip",
        "outputId": "c78fee0b-4350-48f0-ce85-90eaab8163ec"
      },
      "execution_count": 43,
      "outputs": [
        {
          "output_type": "stream",
          "name": "stdout",
          "text": [
            "****Image:  [5.6709546e-06 8.5657693e-06 8.5657693e-06]\n",
            "****Label:  b'dog'\n",
            "****Image:  [1.3875697e-05 3.5200451e-06 4.1886227e-07]\n",
            "****Label:  b'cat'\n",
            "****Image:  [4.6315142e-07 1.5487067e-06 7.1887416e-07]\n",
            "****Label:  b'dog'\n"
          ]
        }
      ]
    }
  ]
}