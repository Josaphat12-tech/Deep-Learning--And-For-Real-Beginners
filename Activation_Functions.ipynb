{
  "nbformat": 4,
  "nbformat_minor": 0,
  "metadata": {
    "colab": {
      "name": "Activation Functions.ipynb",
      "provenance": [],
      "collapsed_sections": [],
      "authorship_tag": "ABX9TyOXb2wag6MIcow9C0g4J6fM",
      "include_colab_link": true
    },
    "kernelspec": {
      "name": "python3",
      "display_name": "Python 3"
    },
    "language_info": {
      "name": "python"
    }
  },
  "cells": [
    {
      "cell_type": "markdown",
      "metadata": {
        "id": "view-in-github",
        "colab_type": "text"
      },
      "source": [
        "<a href=\"https://colab.research.google.com/github/Josaphat12-tech/Gradient-Descent-For-Neuron-Network/blob/main/Activation_Functions.ipynb\" target=\"_parent\"><img src=\"https://colab.research.google.com/assets/colab-badge.svg\" alt=\"Open In Colab\"/></a>"
      ]
    },
    {
      "cell_type": "markdown",
      "metadata": {
        "id": "r7d_Pk3E9LgU"
      },
      "source": [
        "#**Sigmoid Function**"
      ]
    },
    {
      "cell_type": "code",
      "metadata": {
        "id": "ghqzsiCx79Jv"
      },
      "source": [
        "import math\n",
        "\n",
        "def sigmoid(x):\n",
        "  return 1/(1 + math.exp(-x))"
      ],
      "execution_count": null,
      "outputs": []
    },
    {
      "cell_type": "code",
      "metadata": {
        "colab": {
          "base_uri": "https://localhost:8080/"
        },
        "id": "6gKqCwMh8XoC",
        "outputId": "29da2ec4-3606-4469-be28-594c1b23b228"
      },
      "source": [
        "sigmoid(-10)"
      ],
      "execution_count": null,
      "outputs": [
        {
          "output_type": "execute_result",
          "data": {
            "text/plain": [
              "4.5397868702434395e-05"
            ]
          },
          "metadata": {},
          "execution_count": 7
        }
      ]
    },
    {
      "cell_type": "markdown",
      "metadata": {
        "id": "yTFhdP8k9VhB"
      },
      "source": [
        "#**TanH Function**"
      ]
    },
    {
      "cell_type": "code",
      "metadata": {
        "id": "Ajh_cCzY9bmd"
      },
      "source": [
        "def tanh(x):\n",
        "  return (math.exp(x)-math.exp(-x)) / (math.exp(x)+math.exp(-x))"
      ],
      "execution_count": null,
      "outputs": []
    },
    {
      "cell_type": "code",
      "metadata": {
        "colab": {
          "base_uri": "https://localhost:8080/"
        },
        "id": "xryxiD7F9_QS",
        "outputId": "4f311761-77be-4452-db42-0626bbe75f44"
      },
      "source": [
        "tanh(-56)"
      ],
      "execution_count": null,
      "outputs": [
        {
          "output_type": "execute_result",
          "data": {
            "text/plain": [
              "-1.0"
            ]
          },
          "metadata": {},
          "execution_count": 19
        }
      ]
    },
    {
      "cell_type": "markdown",
      "metadata": {
        "id": "4IejFlwP-zWn"
      },
      "source": [
        "#**Relu Function▶**"
      ]
    },
    {
      "cell_type": "code",
      "metadata": {
        "id": "1O1_5DNc-BtZ"
      },
      "source": [
        "def relu(x):\n",
        "  return max(0,x)"
      ],
      "execution_count": null,
      "outputs": []
    },
    {
      "cell_type": "code",
      "metadata": {
        "colab": {
          "base_uri": "https://localhost:8080/"
        },
        "id": "RdNaqcNP_cY8",
        "outputId": "7c0e75a8-bd3c-4503-c98c-6a008ebc92c5"
      },
      "source": [
        "relu(2)"
      ],
      "execution_count": null,
      "outputs": [
        {
          "output_type": "execute_result",
          "data": {
            "text/plain": [
              "2"
            ]
          },
          "metadata": {},
          "execution_count": 23
        }
      ]
    },
    {
      "cell_type": "markdown",
      "metadata": {
        "id": "DaxSocUZ_uUa"
      },
      "source": [
        "#Leaky Relu Function⚖"
      ]
    },
    {
      "cell_type": "code",
      "metadata": {
        "id": "s6W6QdUY_fNx"
      },
      "source": [
        "def leakRelu(x):\n",
        "  return max(0.1*x,x)"
      ],
      "execution_count": null,
      "outputs": []
    },
    {
      "cell_type": "code",
      "metadata": {
        "colab": {
          "base_uri": "https://localhost:8080/"
        },
        "id": "GiFW-_UEAG-U",
        "outputId": "5e508b85-008f-4d47-9c3c-69c7d30f8d3b"
      },
      "source": [
        "leakRelu(100)"
      ],
      "execution_count": null,
      "outputs": [
        {
          "output_type": "execute_result",
          "data": {
            "text/plain": [
              "100"
            ]
          },
          "metadata": {},
          "execution_count": 32
        }
      ]
    },
    {
      "cell_type": "code",
      "metadata": {
        "id": "X2u714KFAKXW"
      },
      "source": [
        ""
      ],
      "execution_count": null,
      "outputs": []
    }
  ]
}